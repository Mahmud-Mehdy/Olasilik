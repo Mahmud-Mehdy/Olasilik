{
  "nbformat": 4,
  "nbformat_minor": 0,
  "metadata": {
    "colab": {
      "name": "Permutasyon-Kombinasyon.ipynb",
      "provenance": [],
      "collapsed_sections": [],
      "authorship_tag": "ABX9TyNJCM7Xq8ZzfnN9eyWDa1LU",
      "include_colab_link": true
    },
    "kernelspec": {
      "name": "python3",
      "display_name": "Python 3"
    },
    "language_info": {
      "name": "python"
    }
  },
  "cells": [
    {
      "cell_type": "markdown",
      "metadata": {
        "id": "view-in-github",
        "colab_type": "text"
      },
      "source": [
        "<a href=\"https://colab.research.google.com/github/Mahmud-Mehdy/Olasilik/blob/main/Permutasyon_Kombinasyon.ipynb\" target=\"_parent\"><img src=\"https://colab.research.google.com/assets/colab-badge.svg\" alt=\"Open In Colab\"/></a>"
      ]
    },
    {
      "cell_type": "markdown",
      "source": [
        "**Permutasyon**\n",
        "\n",
        "Permütasyon \"P\" ile tanımlanır ve r tane elemandan oluşan permütasyon dizilişleri \"n'nin r'li permütasyonu\" olarak adlandırılır. Bu durumda n ve r birer doğal sayı ve r sayısı n'den küçük veya n'ye eşit (r≤n) kabul edilir.\n"
      ],
      "metadata": {
        "id": "AwyMsi0OW1fx"
      }
    },
    {
      "cell_type": "markdown",
      "source": [
        "**Soru**\n",
        "\n",
        "\n",
        "\n",
        "\n",
        "\n",
        "5 arkadaş ön koltukları dolu arabada(3 boş koltuk) kaç farklı şekilde oturabilir?\n",
        "\n",
        "\n",
        "\n",
        "**Çözümü**"
      ],
      "metadata": {
        "id": "nf9-zwUiXR_T"
      }
    },
    {
      "cell_type": "code",
      "source": [
        "from itertools import permutations\n",
        "\n",
        "perm = permutations(['Ali', 'Can','Ece','Ege','Nuri'], 3)\n",
        "\n",
        "for i in list(perm):\n",
        "    print (i)\n",
        "\n",
        "print(sum(1 for count in perm))"
      ],
      "metadata": {
        "colab": {
          "base_uri": "https://localhost:8080/"
        },
        "id": "MIi3_O_yX1ri",
        "outputId": "31053790-9256-440c-ecae-3c231bd0f2cc"
      },
      "execution_count": 17,
      "outputs": [
        {
          "output_type": "stream",
          "name": "stdout",
          "text": [
            "('Ali', 'Can', 'Ece')\n",
            "('Ali', 'Can', 'Ege')\n",
            "('Ali', 'Can', 'Nuri')\n",
            "('Ali', 'Ece', 'Can')\n",
            "('Ali', 'Ece', 'Ege')\n",
            "('Ali', 'Ece', 'Nuri')\n",
            "('Ali', 'Ege', 'Can')\n",
            "('Ali', 'Ege', 'Ece')\n",
            "('Ali', 'Ege', 'Nuri')\n",
            "('Ali', 'Nuri', 'Can')\n",
            "('Ali', 'Nuri', 'Ece')\n",
            "('Ali', 'Nuri', 'Ege')\n",
            "('Can', 'Ali', 'Ece')\n",
            "('Can', 'Ali', 'Ege')\n",
            "('Can', 'Ali', 'Nuri')\n",
            "('Can', 'Ece', 'Ali')\n",
            "('Can', 'Ece', 'Ege')\n",
            "('Can', 'Ece', 'Nuri')\n",
            "('Can', 'Ege', 'Ali')\n",
            "('Can', 'Ege', 'Ece')\n",
            "('Can', 'Ege', 'Nuri')\n",
            "('Can', 'Nuri', 'Ali')\n",
            "('Can', 'Nuri', 'Ece')\n",
            "('Can', 'Nuri', 'Ege')\n",
            "('Ece', 'Ali', 'Can')\n",
            "('Ece', 'Ali', 'Ege')\n",
            "('Ece', 'Ali', 'Nuri')\n",
            "('Ece', 'Can', 'Ali')\n",
            "('Ece', 'Can', 'Ege')\n",
            "('Ece', 'Can', 'Nuri')\n",
            "('Ece', 'Ege', 'Ali')\n",
            "('Ece', 'Ege', 'Can')\n",
            "('Ece', 'Ege', 'Nuri')\n",
            "('Ece', 'Nuri', 'Ali')\n",
            "('Ece', 'Nuri', 'Can')\n",
            "('Ece', 'Nuri', 'Ege')\n",
            "('Ege', 'Ali', 'Can')\n",
            "('Ege', 'Ali', 'Ece')\n",
            "('Ege', 'Ali', 'Nuri')\n",
            "('Ege', 'Can', 'Ali')\n",
            "('Ege', 'Can', 'Ece')\n",
            "('Ege', 'Can', 'Nuri')\n",
            "('Ege', 'Ece', 'Ali')\n",
            "('Ege', 'Ece', 'Can')\n",
            "('Ege', 'Ece', 'Nuri')\n",
            "('Ege', 'Nuri', 'Ali')\n",
            "('Ege', 'Nuri', 'Can')\n",
            "('Ege', 'Nuri', 'Ece')\n",
            "('Nuri', 'Ali', 'Can')\n",
            "('Nuri', 'Ali', 'Ece')\n",
            "('Nuri', 'Ali', 'Ege')\n",
            "('Nuri', 'Can', 'Ali')\n",
            "('Nuri', 'Can', 'Ece')\n",
            "('Nuri', 'Can', 'Ege')\n",
            "('Nuri', 'Ece', 'Ali')\n",
            "('Nuri', 'Ece', 'Can')\n",
            "('Nuri', 'Ece', 'Ege')\n",
            "('Nuri', 'Ege', 'Ali')\n",
            "('Nuri', 'Ege', 'Can')\n",
            "('Nuri', 'Ege', 'Ece')\n",
            "0\n"
          ]
        }
      ]
    },
    {
      "cell_type": "markdown",
      "source": [
        "**Kombinasyon**\n",
        "\n",
        "*Soru*: Çuvalda aynı renkli 15 top var. Bu 15 top içerisinden 7 top kaç farklı şekilde alınabilir?\n",
        "\n",
        "**Cevap**"
      ],
      "metadata": {
        "id": "orFHJBKdbm1w"
      }
    },
    {
      "cell_type": "code",
      "source": [
        "from itertools import combinations\n",
        "\n",
        "comb = combinations(range(15),7)\n",
        "\n",
        "print(sum(1 for count in comb))"
      ],
      "metadata": {
        "colab": {
          "base_uri": "https://localhost:8080/"
        },
        "id": "iQ9RxntVFj3O",
        "outputId": "e5fb6902-57a0-437c-8c04-49aeb27d9b94"
      },
      "execution_count": 1,
      "outputs": [
        {
          "output_type": "stream",
          "name": "stdout",
          "text": [
            "6435\n"
          ]
        }
      ]
    }
  ]
}