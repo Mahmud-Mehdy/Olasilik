{
  "nbformat": 4,
  "nbformat_minor": 0,
  "metadata": {
    "colab": {
      "name": "Koşullu olasılık-Bayes teoremi.ipynb",
      "provenance": [],
      "authorship_tag": "ABX9TyM4fJfA97rplbQktguFFP7m",
      "include_colab_link": true
    },
    "kernelspec": {
      "name": "python3",
      "display_name": "Python 3"
    },
    "language_info": {
      "name": "python"
    }
  },
  "cells": [
    {
      "cell_type": "markdown",
      "metadata": {
        "id": "view-in-github",
        "colab_type": "text"
      },
      "source": [
        "<a href=\"https://colab.research.google.com/github/Mahmud-Mehdy/Olasilik/blob/main/Ko%C5%9Fullu_olas%C4%B1l%C4%B1k-Bayes_teoremi.ipynb\" target=\"_parent\"><img src=\"https://colab.research.google.com/assets/colab-badge.svg\" alt=\"Open In Colab\"/></a>"
      ]
    },
    {
      "cell_type": "markdown",
      "source": [
        "**KOŞULLU OLASILIK**\n",
        "\n",
        "A ile B, E örnek uzayının iki olayı olsun. B olayının gerçekleşmiş olması koşuluyla A olayının olasılığına, A olayının B koşullu olasılığı denir. Koşullu olasılık P(A | B) ile sembolize edilir. Bu da:\n",
        "\n",
        "\n",
        "![2.png](data:image/png;base64,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)\n",
        "\n",
        "A olayının B koşullu olasılığı, P(A | B) ile gösterilir. Koşullu olasılık formülü olarak yukarıdaki eşitlikleri kullanabiliriz.\n",
        "\n",
        "Koşullu olasılıkta bilinen durum evrensel küme olur. İstenen durumda bilinen küme içinden alınır. Yani:\n",
        "\n",
        "![3.png](data:image/png;base64,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)\n",
        "\n"
      ],
      "metadata": {
        "id": "QxbbydwRqlUz"
      }
    },
    {
      "cell_type": "markdown",
      "source": [
        "**Problem**\n",
        "\n",
        "Çantada 42 adet yuvarlak ve oval figür var. Bu figürlerin 18i oval şeklindedir. Oval figürlerin 4ü, yuvarlakların ise 5i kırmızı renktedir. Çantadan rastgele seçilen bir yuvarlak figürün  kırmızı olma ihtimali ne kadardır?"
      ],
      "metadata": {
        "id": "GFS9OrMfwmAk"
      }
    },
    {
      "cell_type": "markdown",
      "source": [
        "**Çözüm**\n",
        "\n",
        "Yuvarlakların sayısı             X(A) = 42-18=24\n",
        ".\n",
        "\n",
        "Kırmızı Figürler                 X(B) = 4 + 5 = 9\n",
        ".\n",
        "\n",
        "Kırmızı Yuvarlak Figür Sayısı    X=5\n",
        ".\n",
        "\n",
        "P(B\\A) = 5/24"
      ],
      "metadata": {
        "id": "TiqAXH49wvO4"
      }
    },
    {
      "cell_type": "code",
      "source": [
        "XA = 24 #Yuvarlakların sayısı\n",
        "XB = 9 #Kırmızı figür sayısı\n",
        "XAnB = 5 #Kırmızı Yuvarlak Figür Sayısı\n",
        "\n",
        "# A koşullu B nin olasılığı:\n",
        "pBkA = XAnB / XA\n",
        "\n",
        "print(\"Figür yuvarlak olduğuna göre, kırmızı  olma ihtimali = \" + str(pBkA))"
      ],
      "metadata": {
        "colab": {
          "base_uri": "https://localhost:8080/"
        },
        "id": "IkfyjO6ax54p",
        "outputId": "9f8440e2-9aac-4292-9b95-4c7a05e45ee5"
      },
      "execution_count": null,
      "outputs": [
        {
          "output_type": "stream",
          "name": "stdout",
          "text": [
            "Figür yuvarlak olduğuna göre, kırmızı  olma ihtimali = 0.20833333333333334\n"
          ]
        }
      ]
    },
    {
      "cell_type": "markdown",
      "source": [
        "**BAYES TEOREMİ**\n",
        "\n",
        ".\n",
        "\n",
        "P(A|B) = B olayı gerçekleştiğinde A olayının gerçekleşme olasılığı\n",
        "\n",
        "P(A) = A olayının gerçekleşme olasılığı\n",
        "\n",
        "P(B|A) = A olayı gerçekleştiğinde B olayının gerçekleşme olasılığı\n",
        "\n",
        "P(B) = B olayının gerçekleşme olasılığı\n",
        "\n",
        "\n",
        "\n",
        "![11.png](data:image/png;base64,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)\n",
        "\n",
        "\n",
        "**SORU:**\n",
        "\n",
        "Gönüllü PCR testi yaptıran insanların %15'nin Korona hastası olduğu tespit edilmiştir. PCR Testi yaptıran kişi gerçekten Korona olmuşsa, %85 ihtimalle test pozitif sonuç vermektedir. Testi yapan kişi Korona olmamışsa, %80 ihtimalle test negatif sonuç vermektedir.\n",
        "Böylece, Şahıs PCR yaptırmışsa ve sonuç pozitifse bu kişinin gerçekten Korona olma ihtimalini hesaplayın.\n",
        "\n"
      ],
      "metadata": {
        "id": "M0uD4741maC6"
      }
    },
    {
      "cell_type": "markdown",
      "source": [
        "**ÇÖZÜM:**\n",
        "\n",
        ".\n",
        "\n",
        "\n",
        "B1 - Korona olanlar = 0,15\n",
        "\n",
        "B2 - Korona olmayanlar = 0,85\n",
        "\n",
        "A - PCR`ı pozitif olanlar\n",
        "\n",
        "A|B1 - PCR`ı pozitif Korona olanlar = 0,85\n",
        "\n",
        "A|B2 - PCR`ı pozitif olan Korona olmayanlar = 0,8\n",
        "\n",
        "B1|A - Korona olup PCR`ı pozitif çıkanlar\n",
        "\n",
        "P(B1|A) = P(A|B1)P(B1) / ((P(A|B1)P(B1)) + (P(A|B2)*P(B2)))\n",
        "\n",
        "P(B1|A )= (0.90.2) / ((0.90.2)+(0.2*0.8)) = 9/17"
      ],
      "metadata": {
        "id": "WIlIG376m79Z"
      }
    },
    {
      "cell_type": "code",
      "source": [
        "def BayesTheorem(ab1, ab2, b1, b2):\n",
        "  return b1*ab1 / (b1*ab1 + b2*ab2)\n",
        "\n",
        "pB1 = 0.15\n",
        "pB2 = 0.85\n",
        "pAB1 = 0.85\n",
        "pAB2 = 0.20\n",
        "\n",
        "print(\"PCR`ı pozitif çıkan bir kişinin gerçekten Korona ihtimali : \", BayesTheorem(pAB1, pAB2, pB1, pB2))"
      ],
      "metadata": {
        "colab": {
          "base_uri": "https://localhost:8080/"
        },
        "id": "mB2LeoREnCIn",
        "outputId": "b56488cc-f450-43fe-aa0e-122e7269c583"
      },
      "execution_count": null,
      "outputs": [
        {
          "output_type": "stream",
          "name": "stdout",
          "text": [
            "PCR`ı pozitif çıkan bir kişinin gerçekten Korona ihtimali :  0.4285714285714286\n"
          ]
        }
      ]
    }
  ]
}