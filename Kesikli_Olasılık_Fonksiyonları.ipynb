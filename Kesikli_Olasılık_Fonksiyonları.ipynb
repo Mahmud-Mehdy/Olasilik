{
  "nbformat": 4,
  "nbformat_minor": 0,
  "metadata": {
    "colab": {
      "name": "Kesikli Olasılık Fonksiyonları.ipynb",
      "provenance": [],
      "authorship_tag": "ABX9TyPcQxpx9jN8kKIaxwuy2H9o",
      "include_colab_link": true
    },
    "kernelspec": {
      "name": "python3",
      "display_name": "Python 3"
    },
    "language_info": {
      "name": "python"
    }
  },
  "cells": [
    {
      "cell_type": "markdown",
      "metadata": {
        "id": "view-in-github",
        "colab_type": "text"
      },
      "source": [
        "<a href=\"https://colab.research.google.com/github/Mahmud-Mehdy/Olasilik/blob/main/Kesikli_Olas%C4%B1l%C4%B1k_Fonksiyonlar%C4%B1.ipynb\" target=\"_parent\"><img src=\"https://colab.research.google.com/assets/colab-badge.svg\" alt=\"Open In Colab\"/></a>"
      ]
    },
    {
      "cell_type": "markdown",
      "source": [
        "**Problem** \n",
        "\n",
        "*Olasılık Kütle Fonksiyonu*\n",
        "\n",
        "Bir madeni para 4 kez atılıyor. Paranın yazı gelmesi durumuna ait olan olasılık kütle fonksiyonunu (kesikli olasılık dağılımını) gösteriniz.\n",
        "\n",
        "\n",
        "\n"
      ],
      "metadata": {
        "id": "fgqt-5iiUPm3"
      }
    },
    {
      "cell_type": "markdown",
      "source": [
        "*Açıklama:*\n",
        "\n",
        "X kesikli bir rastgele değişken olduğunda, \"fx(X) = P(X=x)\" fonksiyonuna rastgele değişkenin olasılık kütle fonksiyonu denir.\n",
        "\n",
        "Problemde rastgele değişken X olursa, X paranın yazı gelmelerinin sayısıdır. Yani X={0,1,2,3,4} olur. Sırasıyla X'in bu değerleri için paranın yazı gelme olasılıkları hesaplanır. Hesaplama sırasında 1,2 ve 3 kere yazı gelme durumlarında paranın yazl gelmesi farklı şekillerde olabileceğinden dolayı tüm yazı gelme durumlarının sayısı olasılık değerleri ile çarpılır. Tüm bu hesaplamalardan sonra olasılık kütle fonksiyonu elde edilir.\n",
        "\n"
      ],
      "metadata": {
        "id": "MSnZPZh0UnKs"
      }
    },
    {
      "cell_type": "markdown",
      "source": [
        "**Çözüm**\n",
        "\n",
        "*Paranın Yazı Gelme Durumları:*\n",
        "\n",
        "Hiç Yazı Gelmemesi:\n",
        "\n",
        "P(X=0)= 1/2x1/2x1/2x1/2= 1/16\n",
        "\n",
        "Bir Kere Yazı Gelmesi:\n",
        "\n",
        "P(X=1)= 4x1/2x1/2x1/2x1/2= 4/16\n",
        "\n",
        "İki Kere Yazı Gelmesi:\n",
        "\n",
        "P(X=2)= 6x1/2x1/2x1/2x1/2= 6/16\n",
        "\n",
        "Üç Kere Yazı Gelmesi:\n",
        "\n",
        "P(X=3)= 4x1/2x1/2x1/2x1/2= 4/16\n",
        "\n",
        "Dört Kere Yazı Gelmesi:\n",
        "\n",
        "P(X=4)= 1/2x1/2x1/2x1/2= 1/16"
      ],
      "metadata": {
        "id": "kZZRoZc4Vfwv"
      }
    },
    {
      "cell_type": "code",
      "source": [
        "def pmf(n):\n",
        "  \n",
        "  px0= n*n*n*n # Hiç Yazı Gelmemesi \n",
        "  \n",
        "  px1= 4*n*n*n*n # Bir Ker Yazı Gelmesi \n",
        "  \n",
        "  px2= 6*n*n*n*n # İki Kere Yazı Gelmesi \n",
        "  \n",
        "  px3= 4*n*n*n*n # Üç Kere Yazı Gelmesi \n",
        "  \n",
        "  px4= n*n*n*n # Dört Kere Yazı Gelmesi \n",
        "  \n",
        "  sList=[px0,px1,px2,px3,px4] # Tüm Sonuçların List'e Eklenmesi\n",
        "  \n",
        "  return sList\n",
        "\n",
        "yList=pmf(0.5)\n",
        "\n",
        "print(\"Hiç Yazı Gelmeme Durumu, P(X=0)= 1/2*1/2*1/2*1/2=\",yList[0])\n",
        "print(\"1 Kere Yazı Gelme Durumu, P(X=1)= 4*1/2*1/2*1/2*1/2=\",yList[1])\n",
        "print(\"2 Kere Yazı Gelme Durumu, P(X=2)= 6*1/2*1/2*1/2*1/2=\",yList[2])\n",
        "print(\"3 Kere Yazı Gelme Durumu, P(X=3)= 4*1/2*1/2*1/2*1/2=\",yList[3])\n",
        "print(\"4 Kere Yazı Gelme Durumu, P(X=4)= 1/2*1/2*1/2*1/2=\",yList[4])"
      ],
      "metadata": {
        "colab": {
          "base_uri": "https://localhost:8080/"
        },
        "id": "MBfU3zBaV40K",
        "outputId": "33c38f5a-dedd-4ef0-8058-e92124065c21"
      },
      "execution_count": 2,
      "outputs": [
        {
          "output_type": "stream",
          "name": "stdout",
          "text": [
            "Hiç Yazı Gelmeme Durumu, P(X=0)= 1/2*1/2*1/2*1/2= 0.0625\n",
            "1 Kere Yazı Gelme Durumu, P(X=1)= 4*1/2*1/2*1/2*1/2= 0.25\n",
            "2 Kere Yazı Gelme Durumu, P(X=2)= 6*1/2*1/2*1/2*1/2= 0.375\n",
            "3 Kere Yazı Gelme Durumu, P(X=3)= 4*1/2*1/2*1/2*1/2= 0.25\n",
            "4 Kere Yazı Gelme Durumu, P(X=4)= 1/2*1/2*1/2*1/2= 0.0625\n"
          ]
        }
      ]
    }
  ]
}