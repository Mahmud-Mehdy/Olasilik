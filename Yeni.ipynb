{
  "nbformat": 4,
  "nbformat_minor": 0,
  "metadata": {
    "colab": {
      "name": "deneme",
      "provenance": [],
      "authorship_tag": "ABX9TyPwDskVp5Emm8uuwezx6cpE",
      "include_colab_link": true
    },
    "kernelspec": {
      "name": "python3",
      "display_name": "Python 3"
    },
    "language_info": {
      "name": "python"
    }
  },
  "cells": [
    {
      "cell_type": "markdown",
      "metadata": {
        "id": "view-in-github",
        "colab_type": "text"
      },
      "source": [
        "<a href=\"https://colab.research.google.com/github/Mahmud-Mehdy/Olasilik/blob/main/Yeni.ipynb\" target=\"_parent\"><img src=\"https://colab.research.google.com/assets/colab-badge.svg\" alt=\"Open In Colab\"/></a>"
      ]
    },
    {
      "cell_type": "code",
      "execution_count": null,
      "metadata": {
        "id": "tByOWUDfoqWG"
      },
      "outputs": [],
      "source": [
        ""
      ]
    },
    {
      "cell_type": "markdown",
      "source": [
        "**Hello World**\n",
        "\n",
        "The Code will be in here.\n"
      ],
      "metadata": {
        "id": "W4_Mi6wYorO0"
      }
    },
    {
      "cell_type": "code",
      "source": [
        "x=50\n",
        "y=7\n",
        "result = int(x/y)+1\n",
        "print(result)\n",
        "\n",
        "8"
      ],
      "metadata": {
        "id": "pCqaWu_Zo-Vz"
      },
      "execution_count": null,
      "outputs": []
    },
    {
      "cell_type": "markdown",
      "source": [
        "thats all\n"
      ],
      "metadata": {
        "id": "yWpGEYE4pHoD"
      }
    }
  ]
}