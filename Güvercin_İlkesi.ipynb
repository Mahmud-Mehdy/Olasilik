{
  "nbformat": 4,
  "nbformat_minor": 0,
  "metadata": {
    "colab": {
      "name": "Güvercin İlkesi.ipynb",
      "provenance": [],
      "authorship_tag": "ABX9TyPj+jOy8hHSxGJ0i1HJH4nO",
      "include_colab_link": true
    },
    "kernelspec": {
      "name": "python3",
      "display_name": "Python 3"
    },
    "language_info": {
      "name": "python"
    }
  },
  "cells": [
    {
      "cell_type": "markdown",
      "metadata": {
        "id": "view-in-github",
        "colab_type": "text"
      },
      "source": [
        "<a href=\"https://colab.research.google.com/github/Mahmud-Mehdy/Olasilik/blob/main/G%C3%BCvercin_%C4%B0lkesi.ipynb\" target=\"_parent\"><img src=\"https://colab.research.google.com/assets/colab-badge.svg\" alt=\"Open In Colab\"/></a>"
      ]
    },
    {
      "cell_type": "markdown",
      "source": [
        "#  Güvercin İlkesi Ödevi\n",
        "\n",
        "\n",
        "\n",
        "**Problem**\n",
        "\n",
        "Toplam 7 takımdan oluşacak olan turnuvaya 50 kişi katılmıştır. \n",
        "\n",
        "Yarışmacılar her takımda en az bir kişi olmaları planlanarak atanıyor.\n",
        "Bu 50 yarışmacıdan en az kaç kişi aynı takımda olur?\n",
        "\n",
        "\n"
      ],
      "metadata": {
        "id": "hmyXGiOcsA_A"
      }
    },
    {
      "cell_type": "markdown",
      "source": [
        "**Çözüm**\n",
        "\n",
        "7 takım = yuva\n",
        "\n",
        "50 yarışmacı = güvercin\n",
        "\n"
      ],
      "metadata": {
        "id": "XKyoHnzjsdP2"
      }
    },
    {
      "cell_type": "code",
      "source": [
        "x=50\n",
        "y=7\n",
        "result = int(x/y)+1\n",
        "print(result)\n",
        "\n"
      ],
      "metadata": {
        "id": "rXJCLWzNsjuB",
        "outputId": "9e903d37-dbde-4f82-c801-c91655f0784d",
        "colab": {
          "base_uri": "https://localhost:8080/"
        }
      },
      "execution_count": 1,
      "outputs": [
        {
          "output_type": "stream",
          "name": "stdout",
          "text": [
            "8\n"
          ]
        }
      ]
    }
  ]
}