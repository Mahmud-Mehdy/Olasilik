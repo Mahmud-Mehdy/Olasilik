{
  "nbformat": 4,
  "nbformat_minor": 0,
  "metadata": {
    "colab": {
      "name": "Temel Olasılık.ipynb",
      "provenance": [],
      "authorship_tag": "ABX9TyPy9t0O+jxzvcnZtWv+e61m",
      "include_colab_link": true
    },
    "kernelspec": {
      "name": "python3",
      "display_name": "Python 3"
    },
    "language_info": {
      "name": "python"
    }
  },
  "cells": [
    {
      "cell_type": "markdown",
      "metadata": {
        "id": "view-in-github",
        "colab_type": "text"
      },
      "source": [
        "<a href=\"https://colab.research.google.com/github/Mahmud-Mehdy/Olasilik/blob/main/Temel_Olas%C4%B1l%C4%B1k.ipynb\" target=\"_parent\"><img src=\"https://colab.research.google.com/assets/colab-badge.svg\" alt=\"Open In Colab\"/></a>"
      ]
    },
    {
      "cell_type": "markdown",
      "source": [
        "**Temel Olasılık**\n",
        "\n",
        "*Yazı Tura Problemi*\n",
        "\n",
        "Bir madeni para havaya atıldığında yazı veya tura gelme olasılığını hesaplayın.\n",
        "\n"
      ],
      "metadata": {
        "id": "xlXHHu-kX3pT"
      }
    },
    {
      "cell_type": "code",
      "execution_count": 2,
      "metadata": {
        "colab": {
          "base_uri": "https://localhost:8080/"
        },
        "id": "haog4tb4Wwid",
        "outputId": "704ec5fe-178d-4415-ad9d-37c2a2d11aa6"
      },
      "outputs": [
        {
          "output_type": "stream",
          "name": "stdout",
          "text": [
            "Yazı gelme ihtimali: 49.62\n",
            "Tura gelme ihtimali: 50.38\n"
          ]
        }
      ],
      "source": [
        "#Seçim fonksiyonu ile çözümü\n",
        "from random import randint, choice\n",
        "yazi, tura = 0, 0\n",
        "para = [\"Yazi\", \"Tura\"]\n",
        "for i in range(5000): #5000 kere deniyoruz\n",
        "  a = choice(para)\n",
        "  if a == \"Yazi\":\n",
        "    yazi += 1\n",
        "  if a == \"Tura\":\n",
        "    tura += 1\n",
        "\n",
        "print(\"Yazı gelme ihtimali:\", 100 * yazi / 5000)\n",
        "print(\"Tura gelme ihtimali:\", 100 * tura / 5000)"
      ]
    }
  ]
}